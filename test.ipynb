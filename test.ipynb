{
  "cells": [
    {
      "cell_type": "markdown",
      "metadata": {
        "id": "view-in-github",
        "colab_type": "text"
      },
      "source": [
        "<a href=\"https://colab.research.google.com/github/PiyushiAnand/Breakout_Genius/blob/main/test.ipynb\" target=\"_parent\"><img src=\"https://colab.research.google.com/assets/colab-badge.svg\" alt=\"Open In Colab\"/></a>"
      ]
    },
    {
      "cell_type": "code",
      "source": [
        "!pip install gym[atari]\n",
        "!pip install gym[accept-rom-license]\n",
        "!pip install gym\n",
        "!pip install pyvirtualdisplay\n",
        "!apt-get install -y xvfb\n",
        "!pip install opencv-python"
      ],
      "metadata": {
        "colab": {
          "base_uri": "https://localhost:8080/"
        },
        "id": "zLNF-yYr11xY",
        "outputId": "26a8aaa2-41d5-4e94-88b8-1d81382a206b"
      },
      "execution_count": null,
      "outputs": [
        {
          "output_type": "stream",
          "name": "stdout",
          "text": [
            "Requirement already satisfied: gym[atari] in /usr/local/lib/python3.10/dist-packages (0.25.2)\n",
            "Requirement already satisfied: numpy>=1.18.0 in /usr/local/lib/python3.10/dist-packages (from gym[atari]) (1.22.4)\n",
            "Requirement already satisfied: cloudpickle>=1.2.0 in /usr/local/lib/python3.10/dist-packages (from gym[atari]) (2.2.1)\n",
            "Requirement already satisfied: gym-notices>=0.0.4 in /usr/local/lib/python3.10/dist-packages (from gym[atari]) (0.0.8)\n",
            "Requirement already satisfied: ale-py~=0.7.5 in /usr/local/lib/python3.10/dist-packages (from gym[atari]) (0.7.5)\n",
            "Requirement already satisfied: importlib-resources in /usr/local/lib/python3.10/dist-packages (from ale-py~=0.7.5->gym[atari]) (6.0.0)\n",
            "Requirement already satisfied: gym[accept-rom-license] in /usr/local/lib/python3.10/dist-packages (0.25.2)\n",
            "Requirement already satisfied: numpy>=1.18.0 in /usr/local/lib/python3.10/dist-packages (from gym[accept-rom-license]) (1.22.4)\n",
            "Requirement already satisfied: cloudpickle>=1.2.0 in /usr/local/lib/python3.10/dist-packages (from gym[accept-rom-license]) (2.2.1)\n",
            "Requirement already satisfied: gym-notices>=0.0.4 in /usr/local/lib/python3.10/dist-packages (from gym[accept-rom-license]) (0.0.8)\n",
            "Requirement already satisfied: autorom[accept-rom-license]~=0.4.2 in /usr/local/lib/python3.10/dist-packages (from gym[accept-rom-license]) (0.4.2)\n",
            "Requirement already satisfied: click in /usr/local/lib/python3.10/dist-packages (from autorom[accept-rom-license]~=0.4.2->gym[accept-rom-license]) (8.1.6)\n",
            "Requirement already satisfied: requests in /usr/local/lib/python3.10/dist-packages (from autorom[accept-rom-license]~=0.4.2->gym[accept-rom-license]) (2.27.1)\n",
            "Requirement already satisfied: tqdm in /usr/local/lib/python3.10/dist-packages (from autorom[accept-rom-license]~=0.4.2->gym[accept-rom-license]) (4.65.0)\n",
            "Requirement already satisfied: AutoROM.accept-rom-license in /usr/local/lib/python3.10/dist-packages (from autorom[accept-rom-license]~=0.4.2->gym[accept-rom-license]) (0.6.1)\n",
            "Requirement already satisfied: urllib3<1.27,>=1.21.1 in /usr/local/lib/python3.10/dist-packages (from requests->autorom[accept-rom-license]~=0.4.2->gym[accept-rom-license]) (1.26.16)\n",
            "Requirement already satisfied: certifi>=2017.4.17 in /usr/local/lib/python3.10/dist-packages (from requests->autorom[accept-rom-license]~=0.4.2->gym[accept-rom-license]) (2023.7.22)\n",
            "Requirement already satisfied: charset-normalizer~=2.0.0 in /usr/local/lib/python3.10/dist-packages (from requests->autorom[accept-rom-license]~=0.4.2->gym[accept-rom-license]) (2.0.12)\n",
            "Requirement already satisfied: idna<4,>=2.5 in /usr/local/lib/python3.10/dist-packages (from requests->autorom[accept-rom-license]~=0.4.2->gym[accept-rom-license]) (3.4)\n",
            "Requirement already satisfied: gym in /usr/local/lib/python3.10/dist-packages (0.25.2)\n",
            "Requirement already satisfied: numpy>=1.18.0 in /usr/local/lib/python3.10/dist-packages (from gym) (1.22.4)\n",
            "Requirement already satisfied: cloudpickle>=1.2.0 in /usr/local/lib/python3.10/dist-packages (from gym) (2.2.1)\n",
            "Requirement already satisfied: gym-notices>=0.0.4 in /usr/local/lib/python3.10/dist-packages (from gym) (0.0.8)\n",
            "Requirement already satisfied: pyvirtualdisplay in /usr/local/lib/python3.10/dist-packages (3.0)\n",
            "Reading package lists... Done\n",
            "Building dependency tree... Done\n",
            "Reading state information... Done\n",
            "xvfb is already the newest version (2:21.1.4-2ubuntu1.7~22.04.1).\n",
            "0 upgraded, 0 newly installed, 0 to remove and 15 not upgraded.\n",
            "Requirement already satisfied: opencv-python in /usr/local/lib/python3.10/dist-packages (4.7.0.72)\n",
            "Requirement already satisfied: numpy>=1.21.2 in /usr/local/lib/python3.10/dist-packages (from opencv-python) (1.22.4)\n"
          ]
        }
      ]
    },
    {
      "cell_type": "code",
      "execution_count": null,
      "metadata": {
        "id": "iwjEI_AU1mNV"
      },
      "outputs": [],
      "source": [
        "import random\n",
        "import numpy as np\n",
        "import torch\n",
        "import torch.nn as nn\n",
        "import gym\n",
        "import numpy as np\n",
        "import matplotlib.pyplot as plt\n",
        "from scipy.signal import convolve, gaussian\n",
        "from gym.wrappers.monitoring.video_recorder import ImageEncoder\n",
        "import os\n",
        "import io\n",
        "import base64\n",
        "import time\n",
        "import glob\n",
        "from IPython.display import HTML\n",
        "\n",
        "\n",
        "%matplotlib inline"
      ]
    },
    {
      "cell_type": "code",
      "execution_count": null,
      "metadata": {
        "id": "Wz8-mHY-1mNZ"
      },
      "outputs": [],
      "source": [
        "from gym.wrappers import AtariPreprocessing\n",
        "from gym.wrappers import FrameStack\n",
        "from gym.wrappers import TransformReward\n",
        "\n",
        "def make_env(env_name, clip_rewards=True, seed=None):\n",
        "    env = gym.make(env_name)\n",
        "    if seed is not None:\n",
        "        env.seed(seed)\n",
        "    env = AtariPreprocessing(env, screen_size=84, scale_obs=True)\n",
        "    env = FrameStack(env, num_stack=4)\n",
        "    if clip_rewards:\n",
        "        env = TransformReward(env, lambda r: np.sign(r))\n",
        "    return env\n",
        "\n",
        "env = make_env(env_name)\n",
        "env.reset()\n",
        "n_actions = env.action_space.n\n",
        "state_shape = env.observation_space.shape"
      ]
    },
    {
      "cell_type": "code",
      "execution_count": null,
      "metadata": {
        "colab": {
          "base_uri": "https://localhost:8080/"
        },
        "id": "VJIjuixQ1mNa",
        "outputId": "7e21401c-b798-4e1b-add4-24751382f863"
      },
      "outputs": [
        {
          "output_type": "execute_result",
          "data": {
            "text/plain": [
              "['NOOP', 'FIRE', 'RIGHT', 'LEFT']"
            ]
          },
          "metadata": {},
          "execution_count": 26
        }
      ],
      "source": [
        "n_actions\n",
        "env.get_action_meanings()"
      ]
    },
    {
      "cell_type": "code",
      "execution_count": null,
      "metadata": {
        "id": "bpxG2vjy1mNa"
      },
      "outputs": [],
      "source": [
        "def conv2d_size_out(size, kernel_size, stride):\n",
        "    return (size - (kernel_size - 1) - 1) // stride  + 1\n"
      ]
    },
    {
      "cell_type": "code",
      "execution_count": null,
      "metadata": {
        "colab": {
          "base_uri": "https://localhost:8080/"
        },
        "id": "RpqtIaQG1mNb",
        "outputId": "bb876ec9-70a2-434b-f3d7-71144e62a315"
      },
      "outputs": [
        {
          "output_type": "stream",
          "name": "stdout",
          "text": [
            "Conv1:  20\n",
            "Conv1:  9\n",
            "Input to Dense layer: 2592\n"
          ]
        }
      ],
      "source": [
        "# for the network above\n",
        "# 1st Conv layer output size\n",
        "conv1 = conv2d_size_out(84, 8, 4)\n",
        "print('Conv1: ', conv1)\n",
        "conv2 = conv2d_size_out(conv1, 4, 2)\n",
        "print('Conv1: ', conv2)\n",
        "\n",
        "#number of units entering dense layer would be\n",
        "print(\"Input to Dense layer:\", conv2*conv2*32) #32 is number of filters coming out in 2nd conv layer"
      ]
    },
    {
      "cell_type": "code",
      "execution_count": null,
      "metadata": {
        "colab": {
          "base_uri": "https://localhost:8080/"
        },
        "id": "eyRwpaab1mNb",
        "outputId": "658cdf66-5730-4e96-effb-1dc6f5b21892"
      },
      "outputs": [
        {
          "output_type": "execute_result",
          "data": {
            "text/plain": [
              "device(type='cuda')"
            ]
          },
          "metadata": {},
          "execution_count": 29
        }
      ],
      "source": [
        "device = torch.device('cuda' if torch.cuda.is_available() else 'cpu')\n",
        "device"
      ]
    },
    {
      "cell_type": "code",
      "execution_count": null,
      "metadata": {
        "id": "q8A6_o6Q1mNb"
      },
      "outputs": [],
      "source": [
        "class DQNAgent(nn.Module):\n",
        "    def __init__(self, state_shape, n_actions, epsilon=0):\n",
        "\n",
        "        super().__init__()\n",
        "        self.epsilon = epsilon\n",
        "        self.n_actions = n_actions\n",
        "        self.state_shape = state_shape\n",
        "\n",
        "        state_dim = state_shape[0]\n",
        "        # a simple NN with state_dim as input vector (inout is state s)\n",
        "        # and self.n_actions as output vector of logits of q(s, a)\n",
        "        self.network = nn.Sequential()\n",
        "        self.network.add_module('conv1', nn.Conv2d(4,16,kernel_size=8, stride=4))\n",
        "        self.network.add_module('relu1', nn.ReLU())\n",
        "        self.network.add_module('conv2', nn.Conv2d(16,32,kernel_size=4, stride=2))\n",
        "        self.network.add_module('relu2', nn.ReLU())\n",
        "        self.network.add_module('flatten', nn.Flatten())\n",
        "        self.network.add_module('linear3', nn.Linear(2592, 256)) #2592 calculated above\n",
        "        self.network.add_module('relu3', nn.ReLU())\n",
        "        self.network.add_module('linear4', nn.Linear(256, n_actions))\n",
        "\n",
        "        self.parameters = self.network.parameters\n",
        "\n",
        "    def forward(self, state_t):\n",
        "        # pass the state at time t through the newrok to get Q(s,a)\n",
        "        qvalues = self.network(state_t)\n",
        "        return qvalues\n",
        "\n",
        "    def get_qvalues(self, states):\n",
        "        # input is an array of states in numpy and outout is Qvals as numpy array\n",
        "        states = torch.tensor(states, device=device, dtype=torch.float32)\n",
        "        qvalues = self.forward(states)\n",
        "        return qvalues.data.cpu().numpy()\n",
        "\n",
        "    def sample_actions(self, qvalues):\n",
        "        # sample actions from a batch of q_values using epsilon greedy policy\n",
        "        epsilon = self.epsilon\n",
        "        batch_size, n_actions = qvalues.shape\n",
        "        random_actions = np.random.choice(n_actions, size=batch_size)\n",
        "        best_actions = qvalues.argmax(axis=-1)\n",
        "        should_explore = np.random.choice(\n",
        "            [0, 1], batch_size, p=[1-epsilon, epsilon])\n",
        "        return np.where(should_explore, random_actions, best_actions)"
      ]
    },
    {
      "cell_type": "code",
      "execution_count": null,
      "metadata": {
        "id": "xSMp7LX91mNc"
      },
      "outputs": [],
      "source": [
        "from tqdm import trange\n",
        "from IPython.display import clear_output\n",
        "import matplotlib.pyplot as plt"
      ]
    },
    {
      "cell_type": "code",
      "execution_count": null,
      "metadata": {
        "id": "ax3Wz7-R1mNc"
      },
      "outputs": [],
      "source": [
        "def generate_animation(env, agent, save_dir):\n",
        "\n",
        "    try:\n",
        "        # env = gym.wrappers.Monitor(\n",
        "        #     env, save_dir, video_callable=lambda id: True, force=True, mode='evaluation')\n",
        "        print('starting')\n",
        "    except gym.error.Error as e:\n",
        "        print(e)\n",
        "\n",
        "    if not os.path.exists(save_dir):\n",
        "        os.makedirs(save_dir)\n",
        "\n",
        "    state = env.reset()\n",
        "    reward = 0\n",
        "    t = 0\n",
        "    while True:\n",
        "        qvalues = agent.get_qvalues([state])\n",
        "        action = qvalues.argmax(axis=-1)[0]\n",
        "        state, r, done, _ = env.step(action)\n",
        "        reward += r\n",
        "        t += 1\n",
        "        # plt.imshow(env.render('rgb_array'))\n",
        "        # plt.show()\n",
        "        env.env.ale.saveScreenPNG(f'{save_dir}/test_{str(t).zfill(4)}.png')\n",
        "        time.sleep(0.02)\n",
        "        if done  or t >= 10000:\n",
        "            print('Got reward: {}'.format(reward))\n",
        "            break\n",
        "\n",
        "def display_animation(filepath):\n",
        "    video = io.open(filepath, 'r+b').read()\n",
        "    encoded = base64.b64encode(video)\n",
        "    return HTML(data='''<video alt=\"test\" controls>\n",
        "                <source src=\"data:video/mp4;base64,{0}\" type=\"video/mp4\" />\n",
        "                 </video>'''.format(encoded.decode('ascii')))"
      ]
    },
    {
      "cell_type": "code",
      "execution_count": null,
      "metadata": {
        "colab": {
          "base_uri": "https://localhost:8080/"
        },
        "id": "AiTXJAm51mNc",
        "outputId": "1978ec31-a8bc-4045-c0c8-52a391ed4817"
      },
      "outputs": [
        {
          "output_type": "stream",
          "name": "stdout",
          "text": [
            "starting\n",
            "Got reward: 23.0\n"
          ]
        }
      ],
      "source": [
        "env_name = \"BreakoutNoFrameskip-v4\"\n",
        "save_dir='frames/t_5m'\n",
        "env = make_env(env_name)\n",
        "state_dim = env.observation_space.shape\n",
        "n_actions = env.action_space.n\n",
        "state = env.reset()\n",
        "\n",
        "agent = DQNAgent(state_dim, n_actions).to(device)\n",
        "agent.load_state_dict(torch.load('model_9000000.pth', map_location=lambda storage, loc: storage.cuda(device)))\n",
        "generate_animation(env, agent, save_dir=save_dir)"
      ]
    },
    {
      "cell_type": "code",
      "execution_count": null,
      "metadata": {
        "colab": {
          "base_uri": "https://localhost:8080/"
        },
        "id": "G6TEwd9F1mNd",
        "outputId": "61a687a7-7e56-47a9-b4f4-7380b2b7eac0"
      },
      "outputs": [
        {
          "output_type": "stream",
          "name": "stdout",
          "text": [
            "ffmpeg version 4.4.2-0ubuntu0.22.04.1 Copyright (c) 2000-2021 the FFmpeg developers\n",
            "  built with gcc 11 (Ubuntu 11.2.0-19ubuntu1)\n",
            "  configuration: --prefix=/usr --extra-version=0ubuntu0.22.04.1 --toolchain=hardened --libdir=/usr/lib/x86_64-linux-gnu --incdir=/usr/include/x86_64-linux-gnu --arch=amd64 --enable-gpl --disable-stripping --enable-gnutls --enable-ladspa --enable-libaom --enable-libass --enable-libbluray --enable-libbs2b --enable-libcaca --enable-libcdio --enable-libcodec2 --enable-libdav1d --enable-libflite --enable-libfontconfig --enable-libfreetype --enable-libfribidi --enable-libgme --enable-libgsm --enable-libjack --enable-libmp3lame --enable-libmysofa --enable-libopenjpeg --enable-libopenmpt --enable-libopus --enable-libpulse --enable-librabbitmq --enable-librubberband --enable-libshine --enable-libsnappy --enable-libsoxr --enable-libspeex --enable-libsrt --enable-libssh --enable-libtheora --enable-libtwolame --enable-libvidstab --enable-libvorbis --enable-libvpx --enable-libwebp --enable-libx265 --enable-libxml2 --enable-libxvid --enable-libzimg --enable-libzmq --enable-libzvbi --enable-lv2 --enable-omx --enable-openal --enable-opencl --enable-opengl --enable-sdl2 --enable-pocketsphinx --enable-librsvg --enable-libmfx --enable-libdc1394 --enable-libdrm --enable-libiec61883 --enable-chromaprint --enable-frei0r --enable-libx264 --enable-shared\n",
            "  libavutil      56. 70.100 / 56. 70.100\n",
            "  libavcodec     58.134.100 / 58.134.100\n",
            "  libavformat    58. 76.100 / 58. 76.100\n",
            "  libavdevice    58. 13.100 / 58. 13.100\n",
            "  libavfilter     7.110.100 /  7.110.100\n",
            "  libswscale      5.  9.100 /  5.  9.100\n",
            "  libswresample   3.  9.100 /  3.  9.100\n",
            "  libpostproc    55.  9.100 / 55.  9.100\n",
            "Input #0, image2, from 'frames/t_5m/*.png':\n",
            "  Duration: 00:00:33.03, start: 0.000000, bitrate: N/A\n",
            "  Stream #0:0: Video: png, rgb24(pc), 320x210, 30 fps, 30 tbr, 30 tbn, 30 tbc\n",
            "File 'output.mp4' already exists. Overwrite? [y/N] y\n",
            "Stream mapping:\n",
            "  Stream #0:0 -> #0:0 (png (native) -> h264 (libx264))\n",
            "Press [q] to stop, [?] for help\n",
            "\u001b[1;36m[libx264 @ 0x5ab77ddacf80] \u001b[0musing cpu capabilities: MMX2 SSE2Fast SSSE3 SSE4.2 AVX FMA3 BMI2 AVX2\n",
            "\u001b[1;36m[libx264 @ 0x5ab77ddacf80] \u001b[0mprofile High, level 1.3, 4:2:0, 8-bit\n",
            "\u001b[1;36m[libx264 @ 0x5ab77ddacf80] \u001b[0m264 - core 163 r3060 5db6aa6 - H.264/MPEG-4 AVC codec - Copyleft 2003-2021 - http://www.videolan.org/x264.html - options: cabac=1 ref=3 deblock=1:0:0 analyse=0x3:0x113 me=hex subme=7 psy=1 psy_rd=1.00:0.00 mixed_ref=1 me_range=16 chroma_me=1 trellis=1 8x8dct=1 cqm=0 deadzone=21,11 fast_pskip=1 chroma_qp_offset=-2 threads=3 lookahead_threads=1 sliced_threads=0 nr=0 decimate=1 interlaced=0 bluray_compat=0 constrained_intra=0 bframes=3 b_pyramid=2 b_adapt=1 b_bias=0 direct=1 weightb=1 open_gop=0 weightp=2 keyint=250 keyint_min=25 scenecut=40 intra_refresh=0 rc_lookahead=40 rc=crf mbtree=1 crf=23.0 qcomp=0.60 qpmin=0 qpmax=69 qpstep=4 ip_ratio=1.40 aq=1:1.00\n",
            "Output #0, mp4, to 'output.mp4':\n",
            "  Metadata:\n",
            "    encoder         : Lavf58.76.100\n",
            "  Stream #0:0: Video: h264 (avc1 / 0x31637661), yuv420p(tv, progressive), 320x210, q=2-31, 30 fps, 15360 tbn\n",
            "    Metadata:\n",
            "      encoder         : Lavc58.134.100 libx264\n",
            "    Side data:\n",
            "      cpb: bitrate max/min/avg: 0/0/0 buffer size: 0 vbv_delay: N/A\n",
            "frame=  991 fps=769 q=-1.0 Lsize=      78kB time=00:00:32.93 bitrate=  19.3kbits/s speed=25.6x    \n",
            "video:65kB audio:0kB subtitle:0kB other streams:0kB global headers:0kB muxing overhead: 18.771290%\n",
            "\u001b[1;36m[libx264 @ 0x5ab77ddacf80] \u001b[0mframe I:4     Avg QP:13.05  size:   748\n",
            "\u001b[1;36m[libx264 @ 0x5ab77ddacf80] \u001b[0mframe P:289   Avg QP:18.94  size:    94\n",
            "\u001b[1;36m[libx264 @ 0x5ab77ddacf80] \u001b[0mframe B:698   Avg QP:20.29  size:    52\n",
            "\u001b[1;36m[libx264 @ 0x5ab77ddacf80] \u001b[0mconsecutive B-frames:  3.2%  6.5%  6.4% 84.0%\n",
            "\u001b[1;36m[libx264 @ 0x5ab77ddacf80] \u001b[0mmb I  I16..4: 86.0%  3.5% 10.5%\n",
            "\u001b[1;36m[libx264 @ 0x5ab77ddacf80] \u001b[0mmb P  I16..4:  0.4%  0.9%  0.4%  P16..4:  1.3%  0.2%  0.0%  0.0%  0.0%    skip:96.8%\n",
            "\u001b[1;36m[libx264 @ 0x5ab77ddacf80] \u001b[0mmb B  I16..4:  0.0%  0.0%  0.0%  B16..8:  2.9%  0.1%  0.0%  direct: 0.2%  skip:96.7%  L0:55.9% L1:44.1% BI: 0.1%\n",
            "\u001b[1;36m[libx264 @ 0x5ab77ddacf80] \u001b[0m8x8 transform intra:29.9% inter:9.0%\n",
            "\u001b[1;36m[libx264 @ 0x5ab77ddacf80] \u001b[0mcoded y,uvDC,uvAC intra: 7.4% 21.4% 19.9% inter: 0.1% 0.5% 0.4%\n",
            "\u001b[1;36m[libx264 @ 0x5ab77ddacf80] \u001b[0mi16 v,h,dc,p: 57% 42%  1%  0%\n",
            "\u001b[1;36m[libx264 @ 0x5ab77ddacf80] \u001b[0mi8 v,h,dc,ddl,ddr,vr,hd,vl,hu:  4%  3% 94%  0%  0%  0%  0%  0%  0%\n",
            "\u001b[1;36m[libx264 @ 0x5ab77ddacf80] \u001b[0mi4 v,h,dc,ddl,ddr,vr,hd,vl,hu: 16% 25% 57%  0%  1%  0%  0%  1%  0%\n",
            "\u001b[1;36m[libx264 @ 0x5ab77ddacf80] \u001b[0mi8c dc,h,v,p: 67% 27%  6%  0%\n",
            "\u001b[1;36m[libx264 @ 0x5ab77ddacf80] \u001b[0mWeighted P-Frames: Y:0.0% UV:0.0%\n",
            "\u001b[1;36m[libx264 @ 0x5ab77ddacf80] \u001b[0mref P L0: 76.0%  0.4% 15.3%  8.3%\n",
            "\u001b[1;36m[libx264 @ 0x5ab77ddacf80] \u001b[0mref B L0: 69.7% 26.2%  4.0%\n",
            "\u001b[1;36m[libx264 @ 0x5ab77ddacf80] \u001b[0mref B L1: 98.5%  1.5%\n",
            "\u001b[1;36m[libx264 @ 0x5ab77ddacf80] \u001b[0mkb/s:16.04\n"
          ]
        }
      ],
      "source": [
        "!apt-get -qq install -y ffmpeg\n",
        "!ffmpeg -framerate 30 -pattern_type glob -i 'frames/t_5m/*.png' -c:v libx264 -pix_fmt yuv420p output.mp4\n"
      ]
    },
    {
      "cell_type": "code",
      "source": [
        "from google.colab import files\n",
        "\n",
        "files.download('output.mp4')\n"
      ],
      "metadata": {
        "colab": {
          "base_uri": "https://localhost:8080/",
          "height": 17
        },
        "id": "xEhTwuJOw6Xe",
        "outputId": "44da34b2-a0c0-479e-856c-243db0d34d07"
      },
      "execution_count": null,
      "outputs": [
        {
          "output_type": "display_data",
          "data": {
            "text/plain": [
              "<IPython.core.display.Javascript object>"
            ],
            "application/javascript": [
              "\n",
              "    async function download(id, filename, size) {\n",
              "      if (!google.colab.kernel.accessAllowed) {\n",
              "        return;\n",
              "      }\n",
              "      const div = document.createElement('div');\n",
              "      const label = document.createElement('label');\n",
              "      label.textContent = `Downloading \"${filename}\": `;\n",
              "      div.appendChild(label);\n",
              "      const progress = document.createElement('progress');\n",
              "      progress.max = size;\n",
              "      div.appendChild(progress);\n",
              "      document.body.appendChild(div);\n",
              "\n",
              "      const buffers = [];\n",
              "      let downloaded = 0;\n",
              "\n",
              "      const channel = await google.colab.kernel.comms.open(id);\n",
              "      // Send a message to notify the kernel that we're ready.\n",
              "      channel.send({})\n",
              "\n",
              "      for await (const message of channel.messages) {\n",
              "        // Send a message to notify the kernel that we're ready.\n",
              "        channel.send({})\n",
              "        if (message.buffers) {\n",
              "          for (const buffer of message.buffers) {\n",
              "            buffers.push(buffer);\n",
              "            downloaded += buffer.byteLength;\n",
              "            progress.value = downloaded;\n",
              "          }\n",
              "        }\n",
              "      }\n",
              "      const blob = new Blob(buffers, {type: 'application/binary'});\n",
              "      const a = document.createElement('a');\n",
              "      a.href = window.URL.createObjectURL(blob);\n",
              "      a.download = filename;\n",
              "      div.appendChild(a);\n",
              "      a.click();\n",
              "      div.remove();\n",
              "    }\n",
              "  "
            ]
          },
          "metadata": {}
        },
        {
          "output_type": "display_data",
          "data": {
            "text/plain": [
              "<IPython.core.display.Javascript object>"
            ],
            "application/javascript": [
              "download(\"download_794eb3ca-0c5e-4863-ae0f-edac777ff098\", \"output.mp4\", 79496)"
            ]
          },
          "metadata": {}
        }
      ]
    },
    {
      "cell_type": "code",
      "source": [],
      "metadata": {
        "id": "jRW6-Z-83y2L"
      },
      "execution_count": null,
      "outputs": []
    }
  ],
  "metadata": {
    "kernelspec": {
      "display_name": "Python 3",
      "name": "python3"
    },
    "language_info": {
      "codemirror_mode": {
        "name": "ipython",
        "version": 3
      },
      "file_extension": ".py",
      "mimetype": "text/x-python",
      "name": "python",
      "nbconvert_exporter": "python",
      "pygments_lexer": "ipython3",
      "version": "3.8.16"
    },
    "orig_nbformat": 4,
    "colab": {
      "provenance": [],
      "gpuType": "T4",
      "include_colab_link": true
    },
    "accelerator": "GPU"
  },
  "nbformat": 4,
  "nbformat_minor": 0
}